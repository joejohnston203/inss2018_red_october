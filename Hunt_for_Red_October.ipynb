{
 "cells": [
  {
   "cell_type": "markdown",
   "metadata": {},
   "source": [
    "# Hunt for Red October: INSS 2018 Project\n",
    "### Brendon Bullard, Alex Diaz, Joe Johnston\n",
    "\n",
    "The goal of this project is to determine the feasibiliy of detecting the presence of a nuclear submarine through the detection of neutrinos produced by its reactor. We will assume the nuclear submarine operates at a maximum of 150 MW at full speed of 45 knots and reactor power is proportional to speed. Acheives maximal depth of 300 m. We will also assume that the $\\bar{\\nu}_e$ flux from the reactor only comes from fission of $^{235}U$. Then we can compute the expected flux for a water cherenkov detector at a distance of 500 m as a function of neutrino energy:"
   ]
  },
  {
   "cell_type": "code",
   "execution_count": null,
   "metadata": {
    "collapsed": true
   },
   "outputs": [],
   "source": []
  }
 ],
 "metadata": {
  "kernelspec": {
   "display_name": "Python 3",
   "language": "python",
   "name": "python3"
  },
  "language_info": {
   "codemirror_mode": {
    "name": "ipython",
    "version": 3
   },
   "file_extension": ".py",
   "mimetype": "text/x-python",
   "name": "python",
   "nbconvert_exporter": "python",
   "pygments_lexer": "ipython3",
   "version": "3.6.3"
  }
 },
 "nbformat": 4,
 "nbformat_minor": 2
}
